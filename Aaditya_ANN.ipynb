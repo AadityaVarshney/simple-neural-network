{
 "cells": [
  {
   "cell_type": "markdown",
   "metadata": {},
   "source": [
    "# Importing libraries"
   ]
  },
  {
   "cell_type": "code",
   "execution_count": 1,
   "metadata": {
    "collapsed": true
   },
   "outputs": [],
   "source": [
    "import pandas as pd\n",
    "import numpy as np\n",
    "from sklearn.model_selection import train_test_split"
   ]
  },
  {
   "cell_type": "markdown",
   "metadata": {},
   "source": [
    " # Reading Data and label"
   ]
  },
  {
   "cell_type": "code",
   "execution_count": 2,
   "metadata": {
    "collapsed": true
   },
   "outputs": [],
   "source": [
    "data=pd.read_csv('C:/Users/acer/Downloads/data1.csv',header=None)"
   ]
  },
  {
   "cell_type": "code",
   "execution_count": 3,
   "metadata": {
    "collapsed": true
   },
   "outputs": [],
   "source": [
    "label=pd.read_csv('C:/Users/acer/Downloads/label1.csv',header=None)"
   ]
  },
  {
   "cell_type": "markdown",
   "metadata": {},
   "source": [
    "# Converting into arrays "
   ]
  },
  {
   "cell_type": "code",
   "execution_count": 4,
   "metadata": {},
   "outputs": [
    {
     "name": "stdout",
     "output_type": "stream",
     "text": [
      "2\n",
      "400000\n",
      "(20000, 20)\n"
     ]
    }
   ],
   "source": [
    "npData=np.asarray(data)\n",
    "#print(npData)\n",
    "print(npData.ndim)\n",
    "print(npData.size)\n",
    "print(npData.shape)"
   ]
  },
  {
   "cell_type": "code",
   "execution_count": 5,
   "metadata": {},
   "outputs": [
    {
     "name": "stdout",
     "output_type": "stream",
     "text": [
      "2\n",
      "20000\n",
      "(20000, 1)\n"
     ]
    }
   ],
   "source": [
    "npLabel=np.asarray(label)\n",
    "#print(npLabel)\n",
    "print(npLabel.ndim)\n",
    "print(npLabel.size)\n",
    "print(npLabel.shape)"
   ]
  },
  {
   "cell_type": "markdown",
   "metadata": {},
   "source": [
    "# Converting labels into OneHotDash form"
   ]
  },
  {
   "cell_type": "code",
   "execution_count": 6,
   "metadata": {},
   "outputs": [
    {
     "name": "stdout",
     "output_type": "stream",
     "text": [
      "5\n",
      "[[ 0.  0.  0.  1.  0.]\n",
      " [ 0.  0.  1.  0.  0.]\n",
      " [ 0.  0.  1.  0.  0.]\n",
      " ..., \n",
      " [ 0.  0.  1.  0.  0.]\n",
      " [ 0.  0.  1.  0.  0.]\n",
      " [ 1.  0.  0.  0.  0.]]\n"
     ]
    }
   ],
   "source": [
    "n_values=np.max((npLabel))+1\n",
    "print(n_values)\n",
    "oneHotDash=np.eye(n_values)[npLabel]\n",
    "oneHotDash=np.reshape(oneHotDash,(20000,5))\n",
    "print(oneHotDash)"
   ]
  },
  {
   "cell_type": "markdown",
   "metadata": {},
   "source": [
    "# Splitting data into Training, Validation and Testing data"
   ]
  },
  {
   "cell_type": "code",
   "execution_count": 7,
   "metadata": {
    "collapsed": true
   },
   "outputs": [],
   "source": [
    "trainData,testDashData=train_test_split(npData,train_size=0.8,test_size=0.2,shuffle=False)\n",
    "trainLabel,testLabelDash=train_test_split(oneHotDash,train_size=0.8,test_size=0.2,shuffle=False)"
   ]
  },
  {
   "cell_type": "code",
   "execution_count": 8,
   "metadata": {
    "collapsed": true
   },
   "outputs": [],
   "source": [
    "validData,testData=train_test_split(testDashData,train_size=0.5,test_size=0.5,shuffle=False)\n",
    "validLabel,testDash=train_test_split(testLabelDash,train_size=0.5,test_size=0.5,shuffle=False)"
   ]
  },
  {
   "cell_type": "code",
   "execution_count": 9,
   "metadata": {},
   "outputs": [
    {
     "name": "stdout",
     "output_type": "stream",
     "text": [
      "(16000, 20)\n",
      "(2000, 20)\n",
      "(2000, 20)\n",
      "(2000, 5)\n"
     ]
    }
   ],
   "source": [
    "print(trainData.shape)\n",
    "print(validData.shape)\n",
    "print(testData.shape)\n",
    "print(validLabel.shape)"
   ]
  },
  {
   "cell_type": "markdown",
   "metadata": {},
   "source": [
    "# Architecture of neurone layer\n",
    "### neurons in Input layer=20\n",
    "### neurone in output layer=5"
   ]
  },
  {
   "cell_type": "code",
   "execution_count": 10,
   "metadata": {},
   "outputs": [
    {
     "name": "stdout",
     "output_type": "stream",
     "text": [
      "20\n"
     ]
    }
   ],
   "source": [
    "h=input()#number of neurons in the hidden layer\n",
    "h=int(h)"
   ]
  },
  {
   "cell_type": "markdown",
   "metadata": {},
   "source": [
    "# Initializing weights and baises"
   ]
  },
  {
   "cell_type": "code",
   "execution_count": 11,
   "metadata": {},
   "outputs": [
    {
     "name": "stdout",
     "output_type": "stream",
     "text": [
      "(20, 20)\n",
      "(20, 5)\n"
     ]
    }
   ],
   "source": [
    "std1=(1/np.sqrt(20))#standard deviation of initialiing first weights\n",
    "std2=(1/np.sqrt(h))#standard deviation of initialiing second weights\n",
    "w1=np.random.normal(0,std1,(20,h))#gaussian random assignment of weight\n",
    "w2=np.random.normal(0,std2,(h,5))#gaussian random assignment of weights \n",
    "#print(\"std1\\n\",std1,\"std2\\n\",std2)\n",
    "#print(\"w1\\n\",w1)\n",
    "#print(\"w2\\n\",w2)\n",
    "print(w1.shape)\n",
    "print(w2.shape)\n",
    "\n"
   ]
  },
  {
   "cell_type": "code",
   "execution_count": 12,
   "metadata": {},
   "outputs": [
    {
     "name": "stdout",
     "output_type": "stream",
     "text": [
      "[ 0.  0.  0.  0.  0.  0.  0.  0.  0.  0.  0.  0.  0.  0.  0.  0.  0.  0.\n",
      "  0.  0.]\n",
      "[ 0.  0.  0.  0.  0.]\n"
     ]
    }
   ],
   "source": [
    "b1=np.zeros(h)\n",
    "b2=np.zeros(5)\n",
    "print(b1)\n",
    "print(b2)"
   ]
  },
  {
   "cell_type": "markdown",
   "metadata": {},
   "source": [
    "# Activation Functions"
   ]
  },
  {
   "cell_type": "code",
   "execution_count": 13,
   "metadata": {
    "collapsed": true
   },
   "outputs": [],
   "source": [
    "def actFunc(haha,choose):\n",
    "    if choose==1:\n",
    "        return(1/(1+np.exp(-haha)))\n",
    "    elif choose==2:\n",
    "        return np.max(0,haha)\n",
    "    elif choose==3:\n",
    "        return (np.tanh(haha))\n",
    "    elif choose==4:\n",
    "        temp=np.exp(haha)\n",
    "        return temp/np.sum(temp,axis=1,keepdims=True)\n"
   ]
  },
  {
   "cell_type": "markdown",
   "metadata": {},
   "source": [
    "# Forward Pass"
   ]
  },
  {
   "cell_type": "code",
   "execution_count": 14,
   "metadata": {
    "collapsed": true
   },
   "outputs": [],
   "source": [
    "def forwardFunc(Data):\n",
    "    a0=Data\n",
    "    z1=np.dot(a0,w1)+b1\n",
    "    a1=actFunc(z1,3)\n",
    "    z2=np.dot(a1,w2)+b2\n",
    "    a2=actFunc(z2,4)\n",
    "    return a0,z1,a1,z2,a2"
   ]
  },
  {
   "cell_type": "markdown",
   "metadata": {},
   "source": [
    "# Artificial Neural network"
   ]
  },
  {
   "cell_type": "code",
   "execution_count": 15,
   "metadata": {},
   "outputs": [
    {
     "name": "stdout",
     "output_type": "stream",
     "text": [
      "20\n",
      "1600\n"
     ]
    }
   ],
   "source": [
    "epochs=int(input())\n",
    "batch=int(input())\n",
    "alpha=0.001"
   ]
  },
  {
   "cell_type": "markdown",
   "metadata": {},
   "source": [
    "## Cost function"
   ]
  },
  {
   "cell_type": "code",
   "execution_count": 16,
   "metadata": {
    "collapsed": true
   },
   "outputs": [],
   "source": [
    "def costFunc(y,t):\n",
    "    return -(t*(np.log(y))+(1-t)*np.log(1-y))"
   ]
  },
  {
   "cell_type": "markdown",
   "metadata": {},
   "source": [
    "## Accuracy function"
   ]
  },
  {
   "cell_type": "code",
   "execution_count": 17,
   "metadata": {
    "collapsed": true
   },
   "outputs": [],
   "source": [
    "def accuracyFunc(output,labelData,dataSize):\n",
    "    maxInRow=np.argmax(output, axis=1)\n",
    "    maxInLabels=np.argmax(labelData, axis=1)\n",
    "    ones=np.equal(maxInRow,maxInLabels)\n",
    "    count=np.sum(ones)\n",
    "    return (count/dataSize)*100"
   ]
  },
  {
   "cell_type": "markdown",
   "metadata": {},
   "source": [
    "# Backward pass"
   ]
  },
  {
   "cell_type": "code",
   "execution_count": 23,
   "metadata": {},
   "outputs": [
    {
     "name": "stdout",
     "output_type": "stream",
     "text": [
      "cost = 0.461550384334\n",
      "training accuracy = 91.50625\n",
      "cost = 0.46119513699\n",
      "training accuracy = 91.48125\n",
      "cost = 0.460841156753\n",
      "training accuracy = 91.4625\n",
      "cost = 0.460488253914\n",
      "training accuracy = 91.475\n",
      "cost = 0.46013630597\n",
      "training accuracy = 91.50625\n",
      "cost = 0.459785258122\n",
      "training accuracy = 91.51875\n",
      "cost = 0.459435122321\n",
      "training accuracy = 91.5125\n",
      "cost = 0.459085974555\n",
      "training accuracy = 91.50625\n",
      "cost = 0.458737950184\n",
      "training accuracy = 91.51875\n",
      "cost = 0.45839123729\n",
      "training accuracy = 91.53125\n",
      "cost = 0.458046068203\n",
      "training accuracy = 91.54375\n",
      "cost = 0.457702709528\n",
      "training accuracy = 91.55\n",
      "cost = 0.457361451157\n",
      "training accuracy = 91.58125\n",
      "cost = 0.457022594832\n",
      "training accuracy = 91.5875\n",
      "cost = 0.456686442875\n",
      "training accuracy = 91.58125\n",
      "cost = 0.456353287671\n",
      "training accuracy = 91.58125\n",
      "cost = 0.456023402434\n",
      "training accuracy = 91.5875\n",
      "cost = 0.455697033671\n",
      "training accuracy = 91.60625\n",
      "cost = 0.455374395605\n",
      "training accuracy = 91.60625\n",
      "cost = 0.455055666673\n",
      "training accuracy = 91.60625\n",
      "validation accuracy \n",
      "90.7\n"
     ]
    }
   ],
   "source": [
    "for j in range(epochs):\n",
    "    for i in range(100):\n",
    "        a0,z1,a1,z2,a2=forwardFunc(trainData[i*batch:(i+1)*batch,:])\n",
    "        y=a2\n",
    "        labelBatch=trainLabel[i*batch:(i+1)*batch,:]\n",
    "        #BackwardPass\n",
    "        del2=y-labelBatch\n",
    "        del1=np.dot(del2,w2.T)*(1-pow(actFunc(z1,3),2))\n",
    "        dcdw2=np.dot(a1.T,del2)\n",
    "        dcdw1=np.dot(a0.T,del1)\n",
    "        dcdb1=np.sum(del1,axis=0)\n",
    "        dcdb2=np.sum(del2,axis=0)\n",
    "        w1=w1-alpha*dcdw1\n",
    "        w2=w2-alpha*dcdw2\n",
    "        b2=b2-alpha*dcdb2\n",
    "        b1=b1-alpha*dcdb1\n",
    "    #Cost after one epoch\n",
    "    a0,z1,a1,z2,a2=forwardFunc(trainData)\n",
    "    ytrue=a2\n",
    "    cost=np.sum(costFunc(ytrue,trainLabel))/16000\n",
    "    print (\"cost = \",end=\"\")\n",
    "    print (cost)\n",
    "    accuracy = accuracyFunc(ytrue,trainLabel,16000.0)\n",
    "    print (\"training accuracy = \", end=\"\")\n",
    "    print (accuracy)\n",
    "    ##validation\n",
    "va0,vz1,va1,vz2,va2=forwardFunc(validData)\n",
    "vOutput=va2\n",
    "accuracy = accuracyFunc(vOutput,validLabel,2000.0)\n",
    "print (\"validation accuracy \")\n",
    "print (accuracy)\n",
    "        "
   ]
  }
 ],
 "metadata": {
  "kernelspec": {
   "display_name": "Python 3",
   "language": "python",
   "name": "python3"
  },
  "language_info": {
   "codemirror_mode": {
    "name": "ipython",
    "version": 3
   },
   "file_extension": ".py",
   "mimetype": "text/x-python",
   "name": "python",
   "nbconvert_exporter": "python",
   "pygments_lexer": "ipython3",
   "version": "3.6.3"
  }
 },
 "nbformat": 4,
 "nbformat_minor": 2
}
